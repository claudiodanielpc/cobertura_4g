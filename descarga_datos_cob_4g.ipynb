{
 "cells": [
  {
   "metadata": {},
   "cell_type": "markdown",
   "source": "### Descarga de capas de mapa de cobertura 4G del Instituto Federal de Telecomunicaciones",
   "id": "bb7b96316e490d03"
  },
  {
   "cell_type": "code",
   "id": "initial_id",
   "metadata": {
    "collapsed": true,
    "ExecuteTime": {
     "end_time": "2024-08-20T00:54:30.709307Z",
     "start_time": "2024-08-20T00:54:29.391868Z"
    }
   },
   "source": [
    "import requests\n",
    "import geopandas as gpd\n",
    "import pandas as pd\n",
    "from bs4 import BeautifulSoup\n",
    "import os\n",
    "import json"
   ],
   "outputs": [],
   "execution_count": 1
  },
  {
   "metadata": {
    "ExecuteTime": {
     "end_time": "2024-08-20T00:54:30.725613Z",
     "start_time": "2024-08-20T00:54:30.709307Z"
    }
   },
   "cell_type": "code",
   "source": [
    "#Crear directorio para guardar los archivos\n",
    "os.makedirs(\"geopaquetes\", exist_ok=True)\n",
    "#Cambiar al directorio\n",
    "os.chdir(\"geopaquetes\")"
   ],
   "id": "308730da870acf91",
   "outputs": [],
   "execution_count": 2
  },
  {
   "metadata": {},
   "cell_type": "markdown",
   "source": "Paso 1: Se obtiene el código html de la página en donde se encuentra el mapa.",
   "id": "95f25c564fa5f4b7"
  },
  {
   "metadata": {
    "ExecuteTime": {
     "end_time": "2024-08-20T00:54:30.741221Z",
     "start_time": "2024-08-20T00:54:30.726121Z"
    }
   },
   "cell_type": "code",
   "source": "url=\"https://felt.com/map/Mapa-interactivo-de-cobertura-4G-IFT-nkwEcoI4S9BSa7vgFt6uctD?loc=20.0624,-98.7601,11.6z\"",
   "id": "cb8e38cc70d500bf",
   "outputs": [],
   "execution_count": 3
  },
  {
   "metadata": {
    "ExecuteTime": {
     "end_time": "2024-08-20T00:54:32.654700Z",
     "start_time": "2024-08-20T00:54:30.743542Z"
    }
   },
   "cell_type": "code",
   "source": [
    "#Obtener el mapa\n",
    "response = requests.get(url)\n",
    "soup = BeautifulSoup(response.text, 'html.parser')"
   ],
   "id": "ac784b0570861e7d",
   "outputs": [],
   "execution_count": 4
  },
  {
   "metadata": {
    "ExecuteTime": {
     "end_time": "2024-08-20T00:54:32.670646Z",
     "start_time": "2024-08-20T00:54:32.658555Z"
    }
   },
   "cell_type": "code",
   "source": [
    "# obtener div id=\"felt-data\"\n",
    "div = soup.find(\"div\", {\"id\": \"felt-data\"})\n",
    "#Eliminar textos\n",
    "div = str(div).replace('<div id=\"felt-data\" style=\"display: none\">', '')\n",
    "div = div.replace('\\n  </div>', '')\n",
    "div=div.replace('\\n','')"
   ],
   "id": "c457774bd7cba1a9",
   "outputs": [],
   "execution_count": 5
  },
  {
   "metadata": {
    "ExecuteTime": {
     "end_time": "2024-08-20T00:54:32.686690Z",
     "start_time": "2024-08-20T00:54:32.672879Z"
    }
   },
   "cell_type": "code",
   "source": [
    "#Transformar a json\n",
    "data = json.loads(div)"
   ],
   "id": "30509fdce703b073",
   "outputs": [],
   "execution_count": 6
  },
  {
   "metadata": {
    "ExecuteTime": {
     "end_time": "2024-08-20T00:54:32.702709Z",
     "start_time": "2024-08-20T00:54:32.688879Z"
    }
   },
   "cell_type": "code",
   "source": "data.keys()",
   "id": "e00f3a1027006b90",
   "outputs": [
    {
     "data": {
      "text/plain": [
       "dict_keys(['mapColorPalette', 'loadedAt', 'maptiler_key', 'canCreateMapsSomewhere', 'layerProcessingEmailSubscriptions', 'layerAttrConstraints', 'settings', 'ghostPresences', 'mapTeamId', 'selectedBackgroundId', 'embedConfig', 'isTrainingKarta', 'maxTileURLLength', 'sources', 'urls', 'showBasemapLabels', 'mapBackgrounds', 'felt_version', 'featureFlags', 'isAdminView', 'defaultZoom', 'validGeoDataExtensions', 'currentTeamBannerAcknowledgement', 'updatedAtUnixMs', 'mapLinks', 'resyncTimeoutMs', 'mapbox_api_token', 'mapProject', 'workspaceBilling', 'isVirtualKarta', 'pipeline', 'checkerboardTiles', 'satelliteMode', 'current_user', 'createMapParams', 'accessControl2', 'elements', 'kartaChannel', 'teams', 'defaultControlsMode', 'defaultCoordinates', 'onboardingNeeded', 'mapDescription', 'mapImages', 'folderId', 'authors', 'individualPermissions', 'mapId', 'allowedFeatures', 'isOwner', 'validMapImageMimeTypes', 'editableByCurrentSession', 'widgets', 'socketTokenTTLSeconds', 'customViewport', 'flashMessages', 'selectedDefaultBackgroundMode', 'shareUrl', 'maxUserContentFileSizeBytes', 'sharing', 'mapUrls', 'comments', 'mapTitle', 'isAdmin', 'partnerBranding', 'actions', 'layerGroups', 'folderTree'])"
      ]
     },
     "execution_count": 7,
     "metadata": {},
     "output_type": "execute_result"
    }
   ],
   "execution_count": 7
  },
  {
   "metadata": {
    "ExecuteTime": {
     "end_time": "2024-08-20T00:54:32.718578Z",
     "start_time": "2024-08-20T00:54:32.702709Z"
    }
   },
   "cell_type": "code",
   "source": "data[\"layerGroups\"][0].keys()",
   "id": "e974ea796dcf7d06",
   "outputs": [
    {
     "data": {
      "text/plain": [
       "dict_keys(['id', 'name', 'visible', 'description', 'created_at', 'layers', 'created_by', 'modified_at', 'user_id', 'max_zoom', 'subtitle', 'z_order', 'index_json_url', 'hideFromLegend', 'isCollapsed', 'errorMessage', 'thumbnailUrl', 'progress_percent', 'visibilityInteraction', 'created_at_unix_time_ms', 'duplicatedFromId', 'errorType', 'renderAsLayer'])"
      ]
     },
     "execution_count": 8,
     "metadata": {},
     "output_type": "execute_result"
    }
   ],
   "execution_count": 8
  },
  {
   "metadata": {},
   "cell_type": "markdown",
   "source": "Paso 2: Se obtienen los nombres y urls de la información de cada capa del mapa",
   "id": "988ca23c29b66946"
  },
  {
   "metadata": {
    "ExecuteTime": {
     "end_time": "2024-08-20T00:54:32.734409Z",
     "start_time": "2024-08-20T00:54:32.718578Z"
    }
   },
   "cell_type": "code",
   "source": [
    "#Obtener nombres y urls\n",
    "nombres=[]\n",
    "urls=[]\n",
    "for i in range(len(data[\"layerGroups\"])):\n",
    "    nombres.append(data[\"layerGroups\"][i][\"layers\"][0][\"normalized\"][\"layername\"])\n",
    "    urls.append(data[\"layerGroups\"][i][\"layers\"][0][\"index_json_url\"])"
   ],
   "id": "edf2d6c0f7dcc058",
   "outputs": [],
   "execution_count": 9
  },
  {
   "metadata": {
    "ExecuteTime": {
     "end_time": "2024-08-20T00:54:32.765699Z",
     "start_time": "2024-08-20T00:54:32.734912Z"
    }
   },
   "cell_type": "code",
   "source": [
    "#Crear tabla\n",
    "tabla = pd.DataFrame({\"nombre\":nombres, \"url\":urls})\n",
    "#Eliminar último elemento\n",
    "tabla = tabla[:-1]\n",
    "#Renombrar último registro como \"Movistar\"\n",
    "tabla[\"nombre\"][3]=\"Movistar\"\n",
    "tabla[\"nombre\"][0]=\"ATT\"\n",
    "tabla"
   ],
   "id": "acbb9c4b93d3c06",
   "outputs": [
    {
     "data": {
      "text/plain": [
       "        nombre                                                url\n",
       "0          ATT  https://data-pipeline.felt.com/upload/6b433aae...\n",
       "1       Telcel  https://data-pipeline.felt.com/upload/b03fd7d1...\n",
       "2  ALTAN Redes  https://data-pipeline.felt.com/upload/c80325bd...\n",
       "3     Movistar  https://data-pipeline.felt.com/upload/6b433aae..."
      ],
      "text/html": [
       "<div>\n",
       "<style scoped>\n",
       "    .dataframe tbody tr th:only-of-type {\n",
       "        vertical-align: middle;\n",
       "    }\n",
       "\n",
       "    .dataframe tbody tr th {\n",
       "        vertical-align: top;\n",
       "    }\n",
       "\n",
       "    .dataframe thead th {\n",
       "        text-align: right;\n",
       "    }\n",
       "</style>\n",
       "<table border=\"1\" class=\"dataframe\">\n",
       "  <thead>\n",
       "    <tr style=\"text-align: right;\">\n",
       "      <th></th>\n",
       "      <th>nombre</th>\n",
       "      <th>url</th>\n",
       "    </tr>\n",
       "  </thead>\n",
       "  <tbody>\n",
       "    <tr>\n",
       "      <th>0</th>\n",
       "      <td>ATT</td>\n",
       "      <td>https://data-pipeline.felt.com/upload/6b433aae...</td>\n",
       "    </tr>\n",
       "    <tr>\n",
       "      <th>1</th>\n",
       "      <td>Telcel</td>\n",
       "      <td>https://data-pipeline.felt.com/upload/b03fd7d1...</td>\n",
       "    </tr>\n",
       "    <tr>\n",
       "      <th>2</th>\n",
       "      <td>ALTAN Redes</td>\n",
       "      <td>https://data-pipeline.felt.com/upload/c80325bd...</td>\n",
       "    </tr>\n",
       "    <tr>\n",
       "      <th>3</th>\n",
       "      <td>Movistar</td>\n",
       "      <td>https://data-pipeline.felt.com/upload/6b433aae...</td>\n",
       "    </tr>\n",
       "  </tbody>\n",
       "</table>\n",
       "</div>"
      ]
     },
     "execution_count": 10,
     "metadata": {},
     "output_type": "execute_result"
    }
   ],
   "execution_count": 10
  },
  {
   "metadata": {},
   "cell_type": "markdown",
   "source": "Paso 3: Se obtienen las urls de los datos de cada capa y se descargan los archivos",
   "id": "231ee14bf48aa819"
  },
  {
   "metadata": {
    "ExecuteTime": {
     "end_time": "2024-08-20T00:55:29.638073Z",
     "start_time": "2024-08-20T00:54:32.765699Z"
    }
   },
   "cell_type": "code",
   "source": [
    "#Obtener las urls de la data de los mapas\n",
    "urls_data=[]\n",
    "gdf=gpd.GeoDataFrame()\n",
    "for i in range(len(tabla)):\n",
    "    url = tabla[\"url\"][i]\n",
    "    response = requests.get(url)\n",
    "    data= response.json()\n",
    "    urls_data.append(data[\"datasets\"][0][\"data_url\"])\n",
    "    #descargar el geopackage de cada url con el nombre de la capa\n",
    "    nombre_archivo = tabla[\"nombre\"][i]\n",
    "    write_path = f\"{nombre_archivo}.gpkg\"\n",
    "    with open(write_path, 'wb') as f:\n",
    "        f.write(requests.get(data[\"datasets\"][0][\"data_url\"]).content)"
   ],
   "id": "ffe52b4e8860216e",
   "outputs": [],
   "execution_count": 11
  },
  {
   "metadata": {},
   "cell_type": "markdown",
   "source": "Paso 4: Se cargan los archivos geopackage y se concatenan en un solo archivo",
   "id": "f69203fcefadb07e"
  },
  {
   "metadata": {
    "ExecuteTime": {
     "end_time": "2024-08-20T00:59:38.245457Z",
     "start_time": "2024-08-20T00:55:29.638252Z"
    }
   },
   "cell_type": "code",
   "source": [
    "gdfs = []\n",
    "#Cargar datos\n",
    "for i in range(len(tabla)):\n",
    "    nombre_archivo = tabla['nombre'][i]\n",
    "    gdf = gpd.read_file(f\"{nombre_archivo}.gpkg\")\n",
    "    #Incluir el nombre de la capa\n",
    "    gdf[\"nombre\"] = tabla[\"nombre\"][i]\n",
    "    gdfs.append(gdf)\n",
    "    \n",
    "# Concatenar los geodataframes\n",
    "gdf_final = pd.concat(gdfs, ignore_index=True)"
   ],
   "id": "49acddfe49aaef4e",
   "outputs": [],
   "execution_count": 12
  },
  {
   "metadata": {
    "ExecuteTime": {
     "end_time": "2024-08-20T00:59:38.277090Z",
     "start_time": "2024-08-20T00:59:38.248236Z"
    }
   },
   "cell_type": "code",
   "source": "gdf_final",
   "id": "9df841c4e2f0ba78",
   "outputs": [
    {
     "data": {
      "text/plain": [
       "         felt:feature  felt:has_geometry    Calidad  \\\n",
       "0                   1               True      Buena   \n",
       "1                   2               True      Buena   \n",
       "2                   3               True  Excelente   \n",
       "3                   4               True  Excelente   \n",
       "4                   5               True  Excelente   \n",
       "...               ...                ...        ...   \n",
       "1285015        250821               True    Regular   \n",
       "1285016        250822               True    Regular   \n",
       "1285017        250823               True    Regular   \n",
       "1285018        250824               True    Regular   \n",
       "1285019        250825               True      Buena   \n",
       "\n",
       "                                                  geometry    nombre  \n",
       "0        MULTIPOLYGON (((-117.12184 32.52598, -117.1241...       ATT  \n",
       "1        MULTIPOLYGON (((-117.12181 32.52263, -117.1241...       ATT  \n",
       "2        MULTIPOLYGON (((-117.12165 32.50254, -117.1239...       ATT  \n",
       "3        MULTIPOLYGON (((-117.12162 32.49919, -117.1239...       ATT  \n",
       "4        MULTIPOLYGON (((-117.15130 32.35282, -117.1535...       ATT  \n",
       "...                                                    ...       ...  \n",
       "1285015  MULTIPOLYGON (((-97.33838 18.69422, -97.34039 ...  Movistar  \n",
       "1285016  MULTIPOLYGON (((-97.33561 18.69221, -97.33762 ...  Movistar  \n",
       "1285017  MULTIPOLYGON (((-97.33465 18.69887, -97.33665 ...  Movistar  \n",
       "1285018  MULTIPOLYGON (((-97.33332 18.68687, -97.33533 ...  Movistar  \n",
       "1285019  MULTIPOLYGON (((-97.33284 18.69020, -97.33485 ...  Movistar  \n",
       "\n",
       "[1285020 rows x 5 columns]"
      ],
      "text/html": [
       "<div>\n",
       "<style scoped>\n",
       "    .dataframe tbody tr th:only-of-type {\n",
       "        vertical-align: middle;\n",
       "    }\n",
       "\n",
       "    .dataframe tbody tr th {\n",
       "        vertical-align: top;\n",
       "    }\n",
       "\n",
       "    .dataframe thead th {\n",
       "        text-align: right;\n",
       "    }\n",
       "</style>\n",
       "<table border=\"1\" class=\"dataframe\">\n",
       "  <thead>\n",
       "    <tr style=\"text-align: right;\">\n",
       "      <th></th>\n",
       "      <th>felt:feature</th>\n",
       "      <th>felt:has_geometry</th>\n",
       "      <th>Calidad</th>\n",
       "      <th>geometry</th>\n",
       "      <th>nombre</th>\n",
       "    </tr>\n",
       "  </thead>\n",
       "  <tbody>\n",
       "    <tr>\n",
       "      <th>0</th>\n",
       "      <td>1</td>\n",
       "      <td>True</td>\n",
       "      <td>Buena</td>\n",
       "      <td>MULTIPOLYGON (((-117.12184 32.52598, -117.1241...</td>\n",
       "      <td>ATT</td>\n",
       "    </tr>\n",
       "    <tr>\n",
       "      <th>1</th>\n",
       "      <td>2</td>\n",
       "      <td>True</td>\n",
       "      <td>Buena</td>\n",
       "      <td>MULTIPOLYGON (((-117.12181 32.52263, -117.1241...</td>\n",
       "      <td>ATT</td>\n",
       "    </tr>\n",
       "    <tr>\n",
       "      <th>2</th>\n",
       "      <td>3</td>\n",
       "      <td>True</td>\n",
       "      <td>Excelente</td>\n",
       "      <td>MULTIPOLYGON (((-117.12165 32.50254, -117.1239...</td>\n",
       "      <td>ATT</td>\n",
       "    </tr>\n",
       "    <tr>\n",
       "      <th>3</th>\n",
       "      <td>4</td>\n",
       "      <td>True</td>\n",
       "      <td>Excelente</td>\n",
       "      <td>MULTIPOLYGON (((-117.12162 32.49919, -117.1239...</td>\n",
       "      <td>ATT</td>\n",
       "    </tr>\n",
       "    <tr>\n",
       "      <th>4</th>\n",
       "      <td>5</td>\n",
       "      <td>True</td>\n",
       "      <td>Excelente</td>\n",
       "      <td>MULTIPOLYGON (((-117.15130 32.35282, -117.1535...</td>\n",
       "      <td>ATT</td>\n",
       "    </tr>\n",
       "    <tr>\n",
       "      <th>...</th>\n",
       "      <td>...</td>\n",
       "      <td>...</td>\n",
       "      <td>...</td>\n",
       "      <td>...</td>\n",
       "      <td>...</td>\n",
       "    </tr>\n",
       "    <tr>\n",
       "      <th>1285015</th>\n",
       "      <td>250821</td>\n",
       "      <td>True</td>\n",
       "      <td>Regular</td>\n",
       "      <td>MULTIPOLYGON (((-97.33838 18.69422, -97.34039 ...</td>\n",
       "      <td>Movistar</td>\n",
       "    </tr>\n",
       "    <tr>\n",
       "      <th>1285016</th>\n",
       "      <td>250822</td>\n",
       "      <td>True</td>\n",
       "      <td>Regular</td>\n",
       "      <td>MULTIPOLYGON (((-97.33561 18.69221, -97.33762 ...</td>\n",
       "      <td>Movistar</td>\n",
       "    </tr>\n",
       "    <tr>\n",
       "      <th>1285017</th>\n",
       "      <td>250823</td>\n",
       "      <td>True</td>\n",
       "      <td>Regular</td>\n",
       "      <td>MULTIPOLYGON (((-97.33465 18.69887, -97.33665 ...</td>\n",
       "      <td>Movistar</td>\n",
       "    </tr>\n",
       "    <tr>\n",
       "      <th>1285018</th>\n",
       "      <td>250824</td>\n",
       "      <td>True</td>\n",
       "      <td>Regular</td>\n",
       "      <td>MULTIPOLYGON (((-97.33332 18.68687, -97.33533 ...</td>\n",
       "      <td>Movistar</td>\n",
       "    </tr>\n",
       "    <tr>\n",
       "      <th>1285019</th>\n",
       "      <td>250825</td>\n",
       "      <td>True</td>\n",
       "      <td>Buena</td>\n",
       "      <td>MULTIPOLYGON (((-97.33284 18.69020, -97.33485 ...</td>\n",
       "      <td>Movistar</td>\n",
       "    </tr>\n",
       "  </tbody>\n",
       "</table>\n",
       "<p>1285020 rows × 5 columns</p>\n",
       "</div>"
      ]
     },
     "execution_count": 13,
     "metadata": {},
     "output_type": "execute_result"
    }
   ],
   "execution_count": 13
  },
  {
   "metadata": {
    "ExecuteTime": {
     "end_time": "2024-08-20T00:59:38.292970Z",
     "start_time": "2024-08-20T00:59:38.281376Z"
    }
   },
   "cell_type": "code",
   "source": "type(gdf_final)",
   "id": "928d04ff68df5e40",
   "outputs": [
    {
     "data": {
      "text/plain": [
       "geopandas.geodataframe.GeoDataFrame"
      ]
     },
     "execution_count": 14,
     "metadata": {},
     "output_type": "execute_result"
    }
   ],
   "execution_count": 14
  },
  {
   "metadata": {},
   "cell_type": "markdown",
   "source": "Paso 5: Se guarda el archivo final en formato geopackage",
   "id": "c455c30a0b49803a"
  },
  {
   "metadata": {
    "jupyter": {
     "is_executing": true
    },
    "ExecuteTime": {
     "start_time": "2024-08-20T00:59:38.292970Z"
    }
   },
   "cell_type": "code",
   "source": [
    "#Salvar como geopackage\n",
    "gdf_final.to_file(\"cobertura_4g.gpkg\", driver=\"GPKG\",crs=\"EPSG:4326\")"
   ],
   "id": "57ca7778fdebeaf1",
   "outputs": [],
   "execution_count": null
  }
 ],
 "metadata": {
  "kernelspec": {
   "display_name": "Python 3",
   "language": "python",
   "name": "python3"
  },
  "language_info": {
   "codemirror_mode": {
    "name": "ipython",
    "version": 2
   },
   "file_extension": ".py",
   "mimetype": "text/x-python",
   "name": "python",
   "nbconvert_exporter": "python",
   "pygments_lexer": "ipython2",
   "version": "2.7.6"
  }
 },
 "nbformat": 4,
 "nbformat_minor": 5
}
