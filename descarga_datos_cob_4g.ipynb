{
 "cells": [
  {
   "metadata": {},
   "cell_type": "markdown",
   "source": "### Descarga de capas de mapa de cobertura 4G del Instituto Federal de Telecomunicaciones",
   "id": "bb7b96316e490d03"
  },
  {
   "cell_type": "code",
   "id": "initial_id",
   "metadata": {
    "collapsed": true,
    "ExecuteTime": {
     "end_time": "2024-08-20T00:47:03.283234Z",
     "start_time": "2024-08-20T00:47:01.569557Z"
    }
   },
   "source": [
    "import requests\n",
    "import geopandas as gpd\n",
    "import pandas as pd\n",
    "from bs4 import BeautifulSoup\n",
    "import os"
   ],
   "outputs": [],
   "execution_count": 1
  },
  {
   "metadata": {
    "ExecuteTime": {
     "end_time": "2024-08-20T00:47:03.298939Z",
     "start_time": "2024-08-20T00:47:03.284575Z"
    }
   },
   "cell_type": "code",
   "source": [
    "#Crear directorio para guardar los archivos\n",
    "os.makedirs(\"geopaquetes\", exist_ok=True)\n",
    "#Cambiar al directorio\n",
    "os.chdir(\"geopaquetes\")"
   ],
   "id": "308730da870acf91",
   "outputs": [],
   "execution_count": 2
  },
  {
   "metadata": {},
   "cell_type": "markdown",
   "source": "Paso 1: Se obtiene el código html de la página en donde se encuentra el mapa.",
   "id": "95f25c564fa5f4b7"
  },
  {
   "metadata": {
    "ExecuteTime": {
     "end_time": "2024-08-20T00:47:03.313954Z",
     "start_time": "2024-08-20T00:47:03.299956Z"
    }
   },
   "cell_type": "code",
   "source": "url=\"https://felt.com/map/Mapa-interactivo-de-cobertura-4G-IFT-nkwEcoI4S9BSa7vgFt6uctD?loc=20.0624,-98.7601,11.6z\"",
   "id": "cb8e38cc70d500bf",
   "outputs": [],
   "execution_count": 3
  },
  {
   "metadata": {
    "ExecuteTime": {
     "end_time": "2024-08-20T00:47:04.377187Z",
     "start_time": "2024-08-20T00:47:03.315753Z"
    }
   },
   "cell_type": "code",
   "source": [
    "#Obtener el mapa\n",
    "response = requests.get(url)\n",
    "soup = BeautifulSoup(response.text, 'html.parser')"
   ],
   "id": "ac784b0570861e7d",
   "outputs": [],
   "execution_count": 4
  },
  {
   "metadata": {
    "ExecuteTime": {
     "end_time": "2024-08-20T00:47:04.398915Z",
     "start_time": "2024-08-20T00:47:04.377187Z"
    }
   },
   "cell_type": "code",
   "source": [
    "# obtener div id=\"felt-data\"\n",
    "div = soup.find(\"div\", {\"id\": \"felt-data\"})\n",
    "#Eliminar textos\n",
    "div = str(div).replace('<div id=\"felt-data\" style=\"display: none\">', '')\n",
    "div = div.replace('\\n  </div>', '')\n",
    "div=div.replace('\\n','')"
   ],
   "id": "c457774bd7cba1a9",
   "outputs": [],
   "execution_count": 5
  },
  {
   "metadata": {
    "ExecuteTime": {
     "end_time": "2024-08-20T00:47:04.857717Z",
     "start_time": "2024-08-20T00:47:04.398915Z"
    }
   },
   "cell_type": "code",
   "source": [
    "#Transformar a json\n",
    "data = json.loads(div)\n",
    "data\n",
    "#Salvar a un archivo\n",
    "with open('data.json', 'w') as f:\n",
    "    json.dump(data, f)\n"
   ],
   "id": "30509fdce703b073",
   "outputs": [
    {
     "ename": "NameError",
     "evalue": "name 'json' is not defined",
     "output_type": "error",
     "traceback": [
      "\u001B[1;31m---------------------------------------------------------------------------\u001B[0m",
      "\u001B[1;31mNameError\u001B[0m                                 Traceback (most recent call last)",
      "Cell \u001B[1;32mIn[6], line 2\u001B[0m\n\u001B[0;32m      1\u001B[0m \u001B[38;5;66;03m#Transformar a json\u001B[39;00m\n\u001B[1;32m----> 2\u001B[0m data \u001B[38;5;241m=\u001B[39m \u001B[43mjson\u001B[49m\u001B[38;5;241m.\u001B[39mloads(div)\n\u001B[0;32m      3\u001B[0m data\n\u001B[0;32m      4\u001B[0m \u001B[38;5;66;03m#Salvar a un archivo\u001B[39;00m\n",
      "\u001B[1;31mNameError\u001B[0m: name 'json' is not defined"
     ]
    }
   ],
   "execution_count": 6
  },
  {
   "metadata": {
    "ExecuteTime": {
     "end_time": "2024-08-20T00:47:04.857717Z",
     "start_time": "2024-08-20T00:47:04.857717Z"
    }
   },
   "cell_type": "code",
   "source": "data.keys()",
   "id": "e00f3a1027006b90",
   "outputs": [],
   "execution_count": null
  },
  {
   "metadata": {},
   "cell_type": "code",
   "source": "data[\"layerGroups\"][0].keys()",
   "id": "e974ea796dcf7d06",
   "outputs": [],
   "execution_count": null
  },
  {
   "metadata": {},
   "cell_type": "markdown",
   "source": "Paso 2: Se obtienen los nombres y urls de la información de cada capa del mapa",
   "id": "988ca23c29b66946"
  },
  {
   "metadata": {},
   "cell_type": "code",
   "source": [
    "#Obtener nombres y urls\n",
    "nombres=[]\n",
    "urls=[]\n",
    "for i in range(len(data[\"layerGroups\"])):\n",
    "    nombres.append(data[\"layerGroups\"][i][\"layers\"][0][\"normalized\"][\"layername\"])\n",
    "    urls.append(data[\"layerGroups\"][i][\"layers\"][0][\"index_json_url\"])"
   ],
   "id": "edf2d6c0f7dcc058",
   "outputs": [],
   "execution_count": null
  },
  {
   "metadata": {},
   "cell_type": "code",
   "source": [
    "#Crear tabla\n",
    "tabla = pd.DataFrame({\"nombre\":nombres, \"url\":urls})\n",
    "#Eliminar último elemento\n",
    "tabla = tabla[:-1]\n",
    "#Renombrar último registro como \"Movistar\"\n",
    "tabla[\"nombre\"][3]=\"Movistar\"\n",
    "tabla[\"nombre\"][0]=\"ATT\"\n",
    "tabla"
   ],
   "id": "acbb9c4b93d3c06",
   "outputs": [],
   "execution_count": null
  },
  {
   "metadata": {},
   "cell_type": "markdown",
   "source": "Paso 3: Se obtienen las urls de los datos de cada capa y se descargan los archivos",
   "id": "231ee14bf48aa819"
  },
  {
   "metadata": {},
   "cell_type": "code",
   "source": [
    "#Obtener las urls de la data de los mapas\n",
    "urls_data=[]\n",
    "gdf=gpd.GeoDataFrame()\n",
    "for i in range(len(tabla)):\n",
    "    url = tabla[\"url\"][i]\n",
    "    response = requests.get(url)\n",
    "    data= response.json()\n",
    "    urls_data.append(data[\"datasets\"][0][\"data_url\"])\n",
    "    #descargar el geopackage de cada url con el nombre de la capa\n",
    "    nombre_archivo = tabla[\"nombre\"][i]\n",
    "    write_path = f\"{nombre_archivo}.gpkg\"\n",
    "    with open(write_path, 'wb') as f:\n",
    "        f.write(requests.get(data[\"datasets\"][0][\"data_url\"]).content)"
   ],
   "id": "ffe52b4e8860216e",
   "outputs": [],
   "execution_count": null
  },
  {
   "metadata": {},
   "cell_type": "markdown",
   "source": "Paso 4: Se cargan los archivos geopackage y se concatenan en un solo archivo",
   "id": "f69203fcefadb07e"
  },
  {
   "metadata": {},
   "cell_type": "code",
   "source": [
    "gdfs = []\n",
    "#Cargar datos\n",
    "for i in range(len(tabla)):\n",
    "    nombre_archivo = tabla['nombre'][i]\n",
    "    gdf = gpd.read_file(f\"{nombre_archivo}.gpkg\")\n",
    "    #Incluir el nombre de la capa\n",
    "    gdf[\"nombre\"] = tabla[\"nombre\"][i]\n",
    "    gdfs.append(gdf)\n",
    "    \n",
    "# Concatenar los geodataframes\n",
    "gdf_final = pd.concat(gdfs, ignore_index=True)"
   ],
   "id": "49acddfe49aaef4e",
   "outputs": [],
   "execution_count": null
  },
  {
   "metadata": {},
   "cell_type": "code",
   "source": "gdf_final",
   "id": "9df841c4e2f0ba78",
   "outputs": [],
   "execution_count": null
  },
  {
   "metadata": {},
   "cell_type": "code",
   "source": "type(gdf_final)",
   "id": "928d04ff68df5e40",
   "outputs": [],
   "execution_count": null
  },
  {
   "metadata": {},
   "cell_type": "markdown",
   "source": "Paso 5: Se guarda el archivo final en formato geopackage",
   "id": "c455c30a0b49803a"
  },
  {
   "metadata": {},
   "cell_type": "code",
   "source": [
    "#Salvar como geopackage\n",
    "gdf_final.to_file(\"cobertura_4g.gpkg\", driver=\"GPKG\",crs=\"EPSG:4326\")"
   ],
   "id": "57ca7778fdebeaf1",
   "outputs": [],
   "execution_count": null
  }
 ],
 "metadata": {
  "kernelspec": {
   "display_name": "Python 3",
   "language": "python",
   "name": "python3"
  },
  "language_info": {
   "codemirror_mode": {
    "name": "ipython",
    "version": 2
   },
   "file_extension": ".py",
   "mimetype": "text/x-python",
   "name": "python",
   "nbconvert_exporter": "python",
   "pygments_lexer": "ipython2",
   "version": "2.7.6"
  }
 },
 "nbformat": 4,
 "nbformat_minor": 5
}
