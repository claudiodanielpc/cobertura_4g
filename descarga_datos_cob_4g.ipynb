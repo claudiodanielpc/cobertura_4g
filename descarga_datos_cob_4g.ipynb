{
 "cells": [
  {
   "metadata": {},
   "cell_type": "markdown",
   "source": "### Descarga de capas de mapa de cobertura 4G del Instituto Federal de Telecomunicaciones",
   "id": "bb7b96316e490d03"
  },
  {
   "cell_type": "code",
   "id": "initial_id",
   "metadata": {
    "collapsed": true,
    "ExecuteTime": {
     "end_time": "2024-12-27T07:36:49.483595Z",
     "start_time": "2024-12-27T07:36:48.076274Z"
    }
   },
   "source": [
    "import requests\n",
    "import geopandas as gpd\n",
    "import pandas as pd\n",
    "from bs4 import BeautifulSoup\n",
    "import os\n",
    "import json"
   ],
   "outputs": [],
   "execution_count": 1
  },
  {
   "metadata": {
    "ExecuteTime": {
     "end_time": "2024-12-27T07:36:49.495879Z",
     "start_time": "2024-12-27T07:36:49.490662Z"
    }
   },
   "cell_type": "code",
   "source": [
    "#Crear directorio para guardar los archivos\n",
    "os.makedirs(\"geopaquetes\", exist_ok=True)\n",
    "#Cambiar al directorio\n",
    "os.chdir(\"geopaquetes\")"
   ],
   "id": "308730da870acf91",
   "outputs": [],
   "execution_count": 2
  },
  {
   "metadata": {},
   "cell_type": "markdown",
   "source": "Paso 1: Se obtiene el código html de la página en donde se encuentra el mapa.",
   "id": "95f25c564fa5f4b7"
  },
  {
   "metadata": {
    "ExecuteTime": {
     "end_time": "2024-12-27T07:36:49.589850Z",
     "start_time": "2024-12-27T07:36:49.582248Z"
    }
   },
   "cell_type": "code",
   "source": "url=\"https://felt.com/map/Mapa-interactivo-de-cobertura-4G-IFT-nkwEcoI4S9BSa7vgFt6uctD?loc=20.0624,-98.7601,11.6z\"",
   "id": "cb8e38cc70d500bf",
   "outputs": [],
   "execution_count": 3
  },
  {
   "metadata": {
    "ExecuteTime": {
     "end_time": "2024-12-27T07:36:50.009041Z",
     "start_time": "2024-12-27T07:36:49.605956Z"
    }
   },
   "cell_type": "code",
   "source": [
    "#Obtener el mapa\n",
    "response = requests.get(url)\n",
    "soup = BeautifulSoup(response.text, 'html.parser')"
   ],
   "id": "ac784b0570861e7d",
   "outputs": [],
   "execution_count": 4
  },
  {
   "metadata": {
    "ExecuteTime": {
     "end_time": "2024-12-27T07:36:50.041224Z",
     "start_time": "2024-12-27T07:36:50.034240Z"
    }
   },
   "cell_type": "code",
   "source": [
    "# obtener div id=\"felt-data\"\n",
    "div = soup.find(\"div\", {\"id\": \"felt-data\"})\n",
    "#Eliminar textos\n",
    "div = str(div).replace('<div id=\"felt-data\" style=\"display: none\">', '')\n",
    "div = div.replace('\\n  </div>', '')\n",
    "div=div.replace('\\n','')"
   ],
   "id": "c457774bd7cba1a9",
   "outputs": [],
   "execution_count": 5
  },
  {
   "metadata": {
    "ExecuteTime": {
     "end_time": "2024-12-27T07:36:50.064138Z",
     "start_time": "2024-12-27T07:36:50.054378Z"
    }
   },
   "cell_type": "code",
   "source": [
    "#Transformar a json\n",
    "data = json.loads(div)"
   ],
   "id": "30509fdce703b073",
   "outputs": [],
   "execution_count": 6
  },
  {
   "metadata": {
    "ExecuteTime": {
     "end_time": "2024-12-27T07:36:50.094291Z",
     "start_time": "2024-12-27T07:36:50.079323Z"
    }
   },
   "cell_type": "code",
   "source": "data.keys()",
   "id": "e00f3a1027006b90",
   "outputs": [
    {
     "data": {
      "text/plain": [
       "dict_keys(['mapProject', 'teams', 'canCreateMapsSomewhere', 'satelliteMode', 'settings', 'sources', 'sharing', 'mapColorPalette', 'currentTeamBannerAcknowledgement', 'mapbox_api_token', 'felt_version', 'socketTokenTTLSeconds', 'onboardingNeeded', 'customViewport', 'featureFlags', 'isVirtualKarta', 'customIcons', 'flashMessages', 'workspaceBilling', 'mapBackgrounds', 'shareUrl', 'mapTitle', 'showBasemapLabels', 'constraints', 'isTrainingKarta', 'isOwner', 'folderTree', 'defaultZoom', 'mapLinks', 'maptiler_key', 'pipeline', 'elements', 'comments', 'layerGroups', 'actions', 'resyncTimeoutMs', 'mapTeamId', 'maxTileURLLength', 'selectedDefaultBackgroundMode', 'loadedAt', 'urls', 'checkerboardTiles', 'mapId', 'isAdmin', 'layerProcessingEmailSubscriptions', 'isAdminView', 'mapUrls', 'folderId', 'mapDescription', 'validGeoDataExtensions', 'createMapParams', 'editableByCurrentSession', 'mapImages', 'defaultCoordinates', 'maxUserContentFileSizeBytes', 'layerAttrConstraints', 'embedConfig', 'kartaChannel', 'defaultControlsMode', 'updatedAtUnixMs', 'authors', 'widgets', 'validMapImageMimeTypes', 'selectedBackgroundId', 'individualPermissions', 'partnerBranding', 'allowedFeatures', 'ghostPresences', 'current_user', 'accessControl2'])"
      ]
     },
     "execution_count": 7,
     "metadata": {},
     "output_type": "execute_result"
    }
   ],
   "execution_count": 7
  },
  {
   "metadata": {
    "ExecuteTime": {
     "end_time": "2024-12-27T07:36:50.126158Z",
     "start_time": "2024-12-27T07:36:50.109385Z"
    }
   },
   "cell_type": "code",
   "source": "data[\"layerGroups\"][0].keys()",
   "id": "e974ea796dcf7d06",
   "outputs": [
    {
     "data": {
      "text/plain": [
       "dict_keys(['id', 'name', 'visible', 'description', 'created_at', 'layers', 'created_by', 'modified_at', 'user_id', 'max_zoom', 'index_json_url', 'subtitle', 'z_order', 'hideFromLegend', 'isCollapsed', 'errorMessage', 'thumbnailUrl', 'progress_percent', 'visibilityInteraction', 'created_at_unix_time_ms', 'duplicatedFromId', 'errorType', 'published_to_project_ids', 'renderAsLayer'])"
      ]
     },
     "execution_count": 8,
     "metadata": {},
     "output_type": "execute_result"
    }
   ],
   "execution_count": 8
  },
  {
   "metadata": {},
   "cell_type": "markdown",
   "source": "Paso 2: Se obtienen los nombres y urls de la información de cada capa del mapa",
   "id": "988ca23c29b66946"
  },
  {
   "metadata": {
    "ExecuteTime": {
     "end_time": "2024-12-27T07:36:50.146491Z",
     "start_time": "2024-12-27T07:36:50.139808Z"
    }
   },
   "cell_type": "code",
   "source": [
    "#Obtener nombres y urls\n",
    "nombres=[]\n",
    "urls=[]\n",
    "for i in range(len(data[\"layerGroups\"])):\n",
    "    nombres.append(data[\"layerGroups\"][i][\"layers\"][0][\"normalized\"][\"layername\"])\n",
    "    urls.append(data[\"layerGroups\"][i][\"layers\"][0][\"index_json_url\"])"
   ],
   "id": "edf2d6c0f7dcc058",
   "outputs": [],
   "execution_count": 9
  },
  {
   "metadata": {
    "ExecuteTime": {
     "end_time": "2024-12-27T07:36:50.179600Z",
     "start_time": "2024-12-27T07:36:50.165981Z"
    }
   },
   "cell_type": "code",
   "source": [
    "#Crear tabla\n",
    "tabla = pd.DataFrame({\"nombre\":nombres, \"url\":urls})\n",
    "#Eliminar último elemento\n",
    "tabla = tabla[:-1]\n",
    "#Renombrar último registro como \"Movistar\"\n",
    "tabla[\"nombre\"][3]=\"Movistar\"\n",
    "tabla[\"nombre\"][0]=\"ATT\"\n",
    "tabla"
   ],
   "id": "acbb9c4b93d3c06",
   "outputs": [
    {
     "name": "stderr",
     "output_type": "stream",
     "text": [
      "C:\\Users\\claud\\AppData\\Local\\Temp\\ipykernel_4584\\3492863423.py:6: FutureWarning: ChainedAssignmentError: behaviour will change in pandas 3.0!\n",
      "You are setting values through chained assignment. Currently this works in certain cases, but when using Copy-on-Write (which will become the default behaviour in pandas 3.0) this will never work to update the original DataFrame or Series, because the intermediate object on which we are setting values will behave as a copy.\n",
      "A typical example is when you are setting values in a column of a DataFrame, like:\n",
      "\n",
      "df[\"col\"][row_indexer] = value\n",
      "\n",
      "Use `df.loc[row_indexer, \"col\"] = values` instead, to perform the assignment in a single step and ensure this keeps updating the original `df`.\n",
      "\n",
      "See the caveats in the documentation: https://pandas.pydata.org/pandas-docs/stable/user_guide/indexing.html#returning-a-view-versus-a-copy\n",
      "\n",
      "  tabla[\"nombre\"][3]=\"Movistar\"\n",
      "C:\\Users\\claud\\AppData\\Local\\Temp\\ipykernel_4584\\3492863423.py:7: FutureWarning: ChainedAssignmentError: behaviour will change in pandas 3.0!\n",
      "You are setting values through chained assignment. Currently this works in certain cases, but when using Copy-on-Write (which will become the default behaviour in pandas 3.0) this will never work to update the original DataFrame or Series, because the intermediate object on which we are setting values will behave as a copy.\n",
      "A typical example is when you are setting values in a column of a DataFrame, like:\n",
      "\n",
      "df[\"col\"][row_indexer] = value\n",
      "\n",
      "Use `df.loc[row_indexer, \"col\"] = values` instead, to perform the assignment in a single step and ensure this keeps updating the original `df`.\n",
      "\n",
      "See the caveats in the documentation: https://pandas.pydata.org/pandas-docs/stable/user_guide/indexing.html#returning-a-view-versus-a-copy\n",
      "\n",
      "  tabla[\"nombre\"][0]=\"ATT\"\n"
     ]
    },
    {
     "data": {
      "text/plain": [
       "        nombre                                                url\n",
       "0          ATT  https://us1.data-pipeline.felt.com/upload/64c9...\n",
       "1  ALTAN Redes  https://us1.data-pipeline.felt.com/upload/ed2d...\n",
       "2     AT&amp;T  https://us1.data-pipeline.felt.com/upload/fb71...\n",
       "3     Movistar  https://us1.data-pipeline.felt.com/upload/938e..."
      ],
      "text/html": [
       "<div>\n",
       "<style scoped>\n",
       "    .dataframe tbody tr th:only-of-type {\n",
       "        vertical-align: middle;\n",
       "    }\n",
       "\n",
       "    .dataframe tbody tr th {\n",
       "        vertical-align: top;\n",
       "    }\n",
       "\n",
       "    .dataframe thead th {\n",
       "        text-align: right;\n",
       "    }\n",
       "</style>\n",
       "<table border=\"1\" class=\"dataframe\">\n",
       "  <thead>\n",
       "    <tr style=\"text-align: right;\">\n",
       "      <th></th>\n",
       "      <th>nombre</th>\n",
       "      <th>url</th>\n",
       "    </tr>\n",
       "  </thead>\n",
       "  <tbody>\n",
       "    <tr>\n",
       "      <th>0</th>\n",
       "      <td>ATT</td>\n",
       "      <td>https://us1.data-pipeline.felt.com/upload/64c9...</td>\n",
       "    </tr>\n",
       "    <tr>\n",
       "      <th>1</th>\n",
       "      <td>ALTAN Redes</td>\n",
       "      <td>https://us1.data-pipeline.felt.com/upload/ed2d...</td>\n",
       "    </tr>\n",
       "    <tr>\n",
       "      <th>2</th>\n",
       "      <td>AT&amp;amp;T</td>\n",
       "      <td>https://us1.data-pipeline.felt.com/upload/fb71...</td>\n",
       "    </tr>\n",
       "    <tr>\n",
       "      <th>3</th>\n",
       "      <td>Movistar</td>\n",
       "      <td>https://us1.data-pipeline.felt.com/upload/938e...</td>\n",
       "    </tr>\n",
       "  </tbody>\n",
       "</table>\n",
       "</div>"
      ]
     },
     "execution_count": 10,
     "metadata": {},
     "output_type": "execute_result"
    }
   ],
   "execution_count": 10
  },
  {
   "metadata": {},
   "cell_type": "markdown",
   "source": "Paso 3: Se obtienen las urls de los datos de cada capa y se descargan los archivos",
   "id": "231ee14bf48aa819"
  },
  {
   "metadata": {
    "ExecuteTime": {
     "end_time": "2024-12-27T07:37:38.384375Z",
     "start_time": "2024-12-27T07:36:50.236015Z"
    }
   },
   "cell_type": "code",
   "source": [
    "# Obtener las URLs de los datos de los mapas\n",
    "urls_data = []\n",
    "gdf = gpd.GeoDataFrame()\n",
    "\n",
    "for i in range(len(tabla)):\n",
    "    url = tabla[\"url\"][i]\n",
    "    response = requests.get(url)\n",
    "    data = response.json()\n",
    "\n",
    "    # Verificar si 'data_url' es válido\n",
    "    data_url = data[\"datasets\"][0].get(\"data_url\")\n",
    "    if not data_url:  # Si es None o vacío, saltar al siguiente\n",
    "        print(f\"URL inválida o faltante en la capa {tabla['nombre'][i]}, saltando...\")\n",
    "        continue\n",
    "\n",
    "    urls_data.append(data_url)\n",
    "\n",
    "    # Descargar el geopackage con el nombre de la capa\n",
    "    nombre_archivo = tabla[\"nombre\"][i]\n",
    "    write_path = f\"{nombre_archivo}.gpkg\"\n",
    "    with open(write_path, \"wb\") as f:\n",
    "        f.write(requests.get(data_url).content)\n",
    "        print(f\"Descargando {nombre_archivo}.gpkg...\")\n",
    "        print(f\"Archivo guardado en {write_path}\")\n"
   ],
   "id": "3bd35192f6a8f7fc",
   "outputs": [
    {
     "name": "stdout",
     "output_type": "stream",
     "text": [
      "URL inválida o faltante en la capa ATT, saltando...\n",
      "Descargando ALTAN Redes.gpkg...\n",
      "Archivo guardado en ALTAN Redes.gpkg\n",
      "Descargando AT&amp;T.gpkg...\n",
      "Archivo guardado en AT&amp;T.gpkg\n",
      "Descargando Movistar.gpkg...\n",
      "Archivo guardado en Movistar.gpkg\n"
     ]
    }
   ],
   "execution_count": 11
  },
  {
   "metadata": {},
   "cell_type": "markdown",
   "source": "Paso 4: Se cargan los archivos geopackage y se concatenan en un solo archivo",
   "id": "f69203fcefadb07e"
  },
  {
   "metadata": {
    "ExecuteTime": {
     "end_time": "2024-12-27T07:40:52.160192Z",
     "start_time": "2024-12-27T07:37:38.427435Z"
    }
   },
   "cell_type": "code",
   "source": [
    "gdfs = []\n",
    "#Cargar datos\n",
    "for i in range(len(tabla)):\n",
    "    nombre_archivo = tabla['nombre'][i]\n",
    "    try:\n",
    "        gdf = gpd.read_file(f\"{nombre_archivo}.gpkg\")\n",
    "        #Incluir el nombre de la capa\n",
    "        gdf[\"nombre\"] = tabla[\"nombre\"][i]\n",
    "        gdfs.append(gdf)\n",
    "        print(f\"Archivo {nombre_archivo}.gpkg cargado correctamente\")\n",
    "    except:\n",
    "        print(f\"Error al cargar el archivo {nombre_archivo}.gpkg\")\n",
    "        \n",
    "# Concatenar los geodataframes\n",
    "gdf_final = pd.concat(gdfs, ignore_index=True)"
   ],
   "id": "dccf61cb87d2a617",
   "outputs": [
    {
     "name": "stdout",
     "output_type": "stream",
     "text": [
      "Error al cargar el archivo ATT.gpkg\n",
      "Archivo ALTAN Redes.gpkg cargado correctamente\n",
      "Archivo AT&amp;T.gpkg cargado correctamente\n",
      "Archivo Movistar.gpkg cargado correctamente\n"
     ]
    }
   ],
   "execution_count": 12
  },
  {
   "metadata": {
    "ExecuteTime": {
     "end_time": "2024-12-27T07:40:52.238337Z",
     "start_time": "2024-12-27T07:40:52.197235Z"
    }
   },
   "cell_type": "code",
   "source": "gdf_final",
   "id": "9df841c4e2f0ba78",
   "outputs": [
    {
     "data": {
      "text/plain": [
       "         felt:feature  felt:has_geometry felt:h3_index    Calidad  \\\n",
       "0                   1               True          None  Excelente   \n",
       "1                   2               True          None      Buena   \n",
       "2                   3               True          None      Buena   \n",
       "3                   4               True          None  Excelente   \n",
       "4                   5               True          None  Excelente   \n",
       "...               ...                ...           ...        ...   \n",
       "1000191        516904               True          None      Buena   \n",
       "1000192        516905               True          None      Buena   \n",
       "1000193        516906               True          None    Regular   \n",
       "1000194        516907               True          None    Regular   \n",
       "1000195        516908               True          None  Excelente   \n",
       "\n",
       "                                                  geometry       nombre  \n",
       "0        MULTIPOLYGON (((-117.12184 32.52598, -117.1241...  ALTAN Redes  \n",
       "1        MULTIPOLYGON (((-117.12165 32.50254, -117.1239...  ALTAN Redes  \n",
       "2        MULTIPOLYGON (((-117.12162 32.49919, -117.1239...  ALTAN Redes  \n",
       "3        MULTIPOLYGON (((-116.89474 32.50399, -116.8970...  ALTAN Redes  \n",
       "4        MULTIPOLYGON (((-116.89819 32.50559, -116.9004...  ALTAN Redes  \n",
       "...                                                    ...          ...  \n",
       "1000191  MULTIPOLYGON (((-99.15503 20.46778, -99.15709 ...     Movistar  \n",
       "1000192  MULTIPOLYGON (((-104.70523 19.26123, -104.7073...     Movistar  \n",
       "1000193  MULTIPOLYGON (((-110.87966 28.97732, -110.8819...     Movistar  \n",
       "1000194  MULTIPOLYGON (((-104.83579 27.22782, -104.8380...     Movistar  \n",
       "1000195  MULTIPOLYGON (((-102.31474 21.94275, -102.3168...     Movistar  \n",
       "\n",
       "[1000196 rows x 6 columns]"
      ],
      "text/html": [
       "<div>\n",
       "<style scoped>\n",
       "    .dataframe tbody tr th:only-of-type {\n",
       "        vertical-align: middle;\n",
       "    }\n",
       "\n",
       "    .dataframe tbody tr th {\n",
       "        vertical-align: top;\n",
       "    }\n",
       "\n",
       "    .dataframe thead th {\n",
       "        text-align: right;\n",
       "    }\n",
       "</style>\n",
       "<table border=\"1\" class=\"dataframe\">\n",
       "  <thead>\n",
       "    <tr style=\"text-align: right;\">\n",
       "      <th></th>\n",
       "      <th>felt:feature</th>\n",
       "      <th>felt:has_geometry</th>\n",
       "      <th>felt:h3_index</th>\n",
       "      <th>Calidad</th>\n",
       "      <th>geometry</th>\n",
       "      <th>nombre</th>\n",
       "    </tr>\n",
       "  </thead>\n",
       "  <tbody>\n",
       "    <tr>\n",
       "      <th>0</th>\n",
       "      <td>1</td>\n",
       "      <td>True</td>\n",
       "      <td>None</td>\n",
       "      <td>Excelente</td>\n",
       "      <td>MULTIPOLYGON (((-117.12184 32.52598, -117.1241...</td>\n",
       "      <td>ALTAN Redes</td>\n",
       "    </tr>\n",
       "    <tr>\n",
       "      <th>1</th>\n",
       "      <td>2</td>\n",
       "      <td>True</td>\n",
       "      <td>None</td>\n",
       "      <td>Buena</td>\n",
       "      <td>MULTIPOLYGON (((-117.12165 32.50254, -117.1239...</td>\n",
       "      <td>ALTAN Redes</td>\n",
       "    </tr>\n",
       "    <tr>\n",
       "      <th>2</th>\n",
       "      <td>3</td>\n",
       "      <td>True</td>\n",
       "      <td>None</td>\n",
       "      <td>Buena</td>\n",
       "      <td>MULTIPOLYGON (((-117.12162 32.49919, -117.1239...</td>\n",
       "      <td>ALTAN Redes</td>\n",
       "    </tr>\n",
       "    <tr>\n",
       "      <th>3</th>\n",
       "      <td>4</td>\n",
       "      <td>True</td>\n",
       "      <td>None</td>\n",
       "      <td>Excelente</td>\n",
       "      <td>MULTIPOLYGON (((-116.89474 32.50399, -116.8970...</td>\n",
       "      <td>ALTAN Redes</td>\n",
       "    </tr>\n",
       "    <tr>\n",
       "      <th>4</th>\n",
       "      <td>5</td>\n",
       "      <td>True</td>\n",
       "      <td>None</td>\n",
       "      <td>Excelente</td>\n",
       "      <td>MULTIPOLYGON (((-116.89819 32.50559, -116.9004...</td>\n",
       "      <td>ALTAN Redes</td>\n",
       "    </tr>\n",
       "    <tr>\n",
       "      <th>...</th>\n",
       "      <td>...</td>\n",
       "      <td>...</td>\n",
       "      <td>...</td>\n",
       "      <td>...</td>\n",
       "      <td>...</td>\n",
       "      <td>...</td>\n",
       "    </tr>\n",
       "    <tr>\n",
       "      <th>1000191</th>\n",
       "      <td>516904</td>\n",
       "      <td>True</td>\n",
       "      <td>None</td>\n",
       "      <td>Buena</td>\n",
       "      <td>MULTIPOLYGON (((-99.15503 20.46778, -99.15709 ...</td>\n",
       "      <td>Movistar</td>\n",
       "    </tr>\n",
       "    <tr>\n",
       "      <th>1000192</th>\n",
       "      <td>516905</td>\n",
       "      <td>True</td>\n",
       "      <td>None</td>\n",
       "      <td>Buena</td>\n",
       "      <td>MULTIPOLYGON (((-104.70523 19.26123, -104.7073...</td>\n",
       "      <td>Movistar</td>\n",
       "    </tr>\n",
       "    <tr>\n",
       "      <th>1000193</th>\n",
       "      <td>516906</td>\n",
       "      <td>True</td>\n",
       "      <td>None</td>\n",
       "      <td>Regular</td>\n",
       "      <td>MULTIPOLYGON (((-110.87966 28.97732, -110.8819...</td>\n",
       "      <td>Movistar</td>\n",
       "    </tr>\n",
       "    <tr>\n",
       "      <th>1000194</th>\n",
       "      <td>516907</td>\n",
       "      <td>True</td>\n",
       "      <td>None</td>\n",
       "      <td>Regular</td>\n",
       "      <td>MULTIPOLYGON (((-104.83579 27.22782, -104.8380...</td>\n",
       "      <td>Movistar</td>\n",
       "    </tr>\n",
       "    <tr>\n",
       "      <th>1000195</th>\n",
       "      <td>516908</td>\n",
       "      <td>True</td>\n",
       "      <td>None</td>\n",
       "      <td>Excelente</td>\n",
       "      <td>MULTIPOLYGON (((-102.31474 21.94275, -102.3168...</td>\n",
       "      <td>Movistar</td>\n",
       "    </tr>\n",
       "  </tbody>\n",
       "</table>\n",
       "<p>1000196 rows × 6 columns</p>\n",
       "</div>"
      ]
     },
     "execution_count": 13,
     "metadata": {},
     "output_type": "execute_result"
    }
   ],
   "execution_count": 13
  },
  {
   "metadata": {
    "ExecuteTime": {
     "end_time": "2024-12-27T07:40:52.328769Z",
     "start_time": "2024-12-27T07:40:52.319442Z"
    }
   },
   "cell_type": "code",
   "source": "type(gdf_final)",
   "id": "928d04ff68df5e40",
   "outputs": [
    {
     "data": {
      "text/plain": [
       "geopandas.geodataframe.GeoDataFrame"
      ]
     },
     "execution_count": 14,
     "metadata": {},
     "output_type": "execute_result"
    }
   ],
   "execution_count": 14
  },
  {
   "metadata": {},
   "cell_type": "markdown",
   "source": "Paso 5: Se guarda el archivo final en formato geopackage",
   "id": "c455c30a0b49803a"
  },
  {
   "metadata": {
    "ExecuteTime": {
     "end_time": "2024-12-27T07:44:17.040249Z",
     "start_time": "2024-12-27T07:40:52.522666Z"
    }
   },
   "cell_type": "code",
   "source": [
    "#Salvar como geopackage\n",
    "gdf_final.to_file(\"cobertura_4g.gpkg\", driver=\"GPKG\",crs=\"EPSG:4326\")"
   ],
   "id": "57ca7778fdebeaf1",
   "outputs": [],
   "execution_count": 15
  }
 ],
 "metadata": {
  "kernelspec": {
   "display_name": "Python 3",
   "language": "python",
   "name": "python3"
  },
  "language_info": {
   "codemirror_mode": {
    "name": "ipython",
    "version": 2
   },
   "file_extension": ".py",
   "mimetype": "text/x-python",
   "name": "python",
   "nbconvert_exporter": "python",
   "pygments_lexer": "ipython2",
   "version": "2.7.6"
  }
 },
 "nbformat": 4,
 "nbformat_minor": 5
}
